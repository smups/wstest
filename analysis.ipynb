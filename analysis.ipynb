{
 "cells": [
  {
   "cell_type": "code",
   "execution_count": 1,
   "metadata": {},
   "outputs": [],
   "source": [
    "import numpy as np\n",
    "from matplotlib import pyplot as plt"
   ]
  },
  {
   "cell_type": "code",
   "execution_count": 2,
   "metadata": {},
   "outputs": [],
   "source": [
    "def parse_output(folder: str):\n",
    "  uncoloured = []\n",
    "  lake_sizes = []\n",
    "  lake_count = []\n",
    "  \n",
    "  #Generate all the data\n",
    "  from os import listdir\n",
    "  for path in listdir(folder):\n",
    "    path = f\"{folder}/{path}\"\n",
    "    data = np.genfromtxt(path, delimiter=',', dtype=int)\n",
    "    uncoloured.append(data[:,0])\n",
    "    lake_sizes.append(np.array(data[:,1:]))\n",
    "    lake_count.append(np.array([len(water_lvl[np.where(water_lvl != 0)]) for water_lvl in data[:,1:]]))\n",
    "    \n",
    "  #Immediatly normalise stuff to cut down on bloat\n",
    "  uncoloured = uncoloured / np.max(uncoloured)\n",
    "  lake_count = lake_count / np.max(lake_count)\n",
    "    \n",
    "  return (np.array(uncoloured), np.array(lake_count), lake_sizes)\n",
    "\n",
    "uncol, n_lakes, lake_sizes = parse_output(\"/home/raulwolters/Documents/FRIGGsims_Results/\")"
   ]
  },
  {
   "cell_type": "code",
   "execution_count": 3,
   "metadata": {},
   "outputs": [],
   "source": [
    "def px_per_waterlevel(px_sizes, raw):\n",
    "  per_wlvl = [[] for _  in range(254)]\n",
    "  sized_lakes = [x * y for x, y in zip(raw, px_sizes)]  \n",
    "  for all_lakes in sized_lakes:\n",
    "    for idx, lakes in enumerate(all_lakes):\n",
    "      if len(lakes) != 0: per_wlvl[idx].append(lakes)\n",
    "  return [np.concatenate(li) for li in per_wlvl]\n",
    "\n",
    "#convert pixel-sized lakes to pc-sized lakes\n",
    "def conv_px_size(px_sizes, lakes):\n",
    "  return [px_size * lake for (px_size, lake) in zip(px_sizes, lakes)]\n",
    "\n",
    "def fold(lakes, waterlevel: slice | int):\n",
    "  return np.concatenate([lake[waterlevel,:].flatten() for lake in lakes])"
   ]
  },
  {
   "cell_type": "code",
   "execution_count": 13,
   "metadata": {},
   "outputs": [
    {
     "name": "stderr",
     "output_type": "stream",
     "text": [
      "/tmp/ipykernel_31363/965150849.py:30: UserWarning: Matplotlib is currently using module://matplotlib_inline.backend_inline, which is a non-GUI backend, so cannot show the figure.\n",
      "  fig.show()\n"
     ]
    },
    {
     "data": {
      "image/png": "[encoded data removed]",
      "text/plain": [
       "<Figure size 432x144 with 2 Axes>"
      ]
     },
     "metadata": {
      "needs_background": "light"
     },
     "output_type": "display_data"
    }
   ],
   "source": [
    "from mpl_toolkits.axes_grid1.axes_divider import make_axes_locatable\n",
    "import matplotlib\n",
    "\n",
    "#make histogram!\n",
    "NUM_BINS = 100\n",
    "IMG_SIZE = 512\n",
    "\n",
    "def make_histogram(real_areas):\n",
    "  bins = np.linspace(1, IMG_SIZE**2, num=NUM_BINS)[1:]\n",
    "  cmap = matplotlib.cm.get_cmap('viridis')\n",
    "  cols = np.linspace(0, 1, 254) \n",
    "  \n",
    "  fig, ax = plt.subplots(figsize=(6,2))\n",
    "  ax_divider = make_axes_locatable(ax)  \n",
    "  ax.hist(real_areas, bins, color=cmap(cols), stacked=True)\n",
    "  #ax.set_xscale(\"log\")\n",
    "  ax.set_xlabel(\"linearly binned lake size ($Px^2$)\")\n",
    "  ax.set_ylabel(\"count\")\n",
    "  ax.set_xlim(np.min(bins), np.max(bins))\n",
    "  plt.ylim(top=250)\n",
    "  \n",
    "  #colorbar\n",
    "  cax = ax_divider.append_axes('top', size=\"10%\", pad=\"0%\")\n",
    "  fig.colorbar(\n",
    "    matplotlib.cm.ScalarMappable(cmap=cmap, norm=matplotlib.colors.Normalize(0, 254)),\n",
    "    cax=cax,\n",
    "    orientation='horizontal'\n",
    "  )\n",
    "  cax.xaxis.set_ticks_position('top')\n",
    "  fig.show()\n",
    "  \n",
    "make_histogram(px_per_waterlevel(np.ones(len(lake_sizes)) ,lake_sizes))"
   ]
  }
 ],
 "metadata": {
  "kernelspec": {
   "display_name": "Python 3",
   "language": "python",
   "name": "python3"
  },
  "language_info": {
   "codemirror_mode": {
    "name": "ipython",
    "version": 3
   },
   "file_extension": ".py",
   "mimetype": "text/x-python",
   "name": "python",
   "nbconvert_exporter": "python",
   "pygments_lexer": "ipython3",
   "version": "3.11.2"
  },
  "orig_nbformat": 4,
  "vscode": {
   "interpreter": {
    "hash": "e7370f93d1d0cde622a1f8e1c04877d8463912d04d973331ad4851f04de6915a"
   }
  }
 },
 "nbformat": 4,
 "nbformat_minor": 2
}
