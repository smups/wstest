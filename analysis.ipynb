{
 "cells": [
  {
   "cell_type": "code",
   "execution_count": 1,
   "metadata": {},
   "outputs": [],
   "source": [
    "import numpy as np\n",
    "from matplotlib import pyplot as plt"
   ]
  },
  {
   "cell_type": "code",
   "execution_count": 2,
   "metadata": {},
   "outputs": [],
   "source": [
    "def parse_output(folder: str):\n",
    "  uncoloured = []\n",
    "  lake_sizes = []\n",
    "  lake_count = []\n",
    "  \n",
    "  #Generate all the data\n",
    "  from os import listdir\n",
    "  for path in listdir(folder):\n",
    "    path = f\"{folder}/{path}\"\n",
    "    data = np.genfromtxt(path, delimiter=',', dtype=int)\n",
    "    uncoloured.append(data[:,0])\n",
    "    lake_sizes.append(np.array(data[:,1:]))\n",
    "    lake_count.append(np.array([len(water_lvl[np.where(water_lvl != 0)]) for water_lvl in data[:,1:]]))\n",
    "    \n",
    "  #Immediatly normalise stuff to cut down on bloat\n",
    "  uncoloured = uncoloured / np.max(uncoloured)\n",
    "  lake_count = lake_count / np.max(lake_count)\n",
    "    \n",
    "  return (np.array(uncoloured), np.array(lake_count), lake_sizes)\n",
    "\n",
    "uncol_ppv, n_lakes_ppv, lake_sizes_ppv = parse_output(\"/home/raulwolters/Documents/FRIGGsims_Results/PPV/\")\n",
    "uncol_ppp, n_lakes_ppp, lake_sizes_ppp = parse_output(\"/home/raulwolters/Documents/FRIGGsims_Results/PPP/\")"
   ]
  },
  {
   "cell_type": "code",
   "execution_count": 3,
   "metadata": {},
   "outputs": [],
   "source": [
    "def px_per_waterlevel(px_sizes: np.ndarray | int, raw):\n",
    "  per_wlvl = [[] for _  in range(254)]\n",
    "  sized_lakes = px_sizes * raw if type(px_sizes) is int else [x * y for x, y in zip(raw, px_sizes)] \n",
    "  for depth in sized_lakes:\n",
    "    for wlvl, lakes_wlvl in enumerate(depth):\n",
    "      if len(lakes_wlvl) != 0: per_wlvl[wlvl].append(lakes_wlvl)\n",
    "  return [np.concatenate(li) for li in per_wlvl]\n",
    "\n",
    "def px_per_depth(px_sizes, raw):\n",
    "  sized_lakes = px_sizes * raw if type(px_sizes) is int else [x * y for x, y in zip(raw, px_sizes)]\n",
    "  return [np.concatenate(li) for li in sized_lakes]"
   ]
  },
  {
   "cell_type": "code",
   "execution_count": 11,
   "metadata": {},
   "outputs": [],
   "source": [
    "from mpl_toolkits.axes_grid1.axes_divider import make_axes_locatable\n",
    "import matplotlib\n",
    "\n",
    "#make histogram!\n",
    "NUM_BINS = 100\n",
    "IMG_SIZE = 512\n",
    "\n",
    "def make_histogram(real_areas, xscale=\"log\", yscale=\"linear\", ymax=250):\n",
    "  #set-up bins for the histogram\n",
    "  bins = None #god I hate python\n",
    "  if xscale == \"linear\":\n",
    "    bins = np.linspace(1, IMG_SIZE**2, num=NUM_BINS)[1:]\n",
    "  else:\n",
    "    np.logspace(0, np.log10(IMG_SIZE**2), num=NUM_BINS)[1:]\n",
    "    \n",
    "  #set-up colour map\n",
    "  cmap = matplotlib.cm.get_cmap('viridis')\n",
    "  cols = None\n",
    "  if isinstance(real_areas, list):\n",
    "    cols = np.arange(0, len(real_areas))\n",
    "  elif isinstance(real_areas, np.ndarray):\n",
    "    cols = np.arange(0, real_areas.shape[1])\n",
    "  else: return None \n",
    "  \n",
    "  fig, ax = plt.subplots(figsize=(6,2))\n",
    "  ax_divider = make_axes_locatable(ax)  \n",
    "  ax.hist(real_areas, bins, color=cmap(cols), stacked=True)\n",
    "  ax.set_xscale(xscale)\n",
    "  ax.set_yscale(yscale)\n",
    "  \n",
    "  ax.set_xlabel(f\"{xscale} binned lake size ($Px^2$)\")\n",
    "  ax.set_ylabel(\"count\")\n",
    "  ax.set_xlim(np.min(bins), np.max(bins))\n",
    "  ax.set_ylim(top=ymax)\n",
    "  \n",
    "  #yticks\n",
    "  ax.set_yticks(np.round(np.linspace(start=0, stop=ymax, num=5)))\n",
    "  \n",
    "  #colorbar\n",
    "  cax = ax_divider.append_axes('top', size=\"10%\", pad=\"0%\")\n",
    "  fig.colorbar(\n",
    "    matplotlib.cm.ScalarMappable(cmap=cmap, norm=matplotlib.colors.Normalize(0, 254)),\n",
    "    cax=cax,\n",
    "    orientation='horizontal'\n",
    "  )\n",
    "  cax.xaxis.set_ticks_position('top')\n",
    "  fig.show()"
   ]
  },
  {
   "cell_type": "code",
   "execution_count": 12,
   "metadata": {},
   "outputs": [
    {
     "name": "stdout",
     "output_type": "stream",
     "text": [
      "(2271, 254)\n"
     ]
    },
    {
     "name": "stderr",
     "output_type": "stream",
     "text": [
      "/tmp/ipykernel_40565/687785943.py:46: UserWarning: Matplotlib is currently using module://matplotlib_inline.backend_inline, which is a non-GUI backend, so cannot show the figure.\n",
      "  fig.show()\n"
     ]
    },
    {
     "data": {
      "image/png": "[encoded data removed]",
      "text/plain": [
       "<Figure size 432x144 with 2 Axes>"
      ]
     },
     "metadata": {
      "needs_background": "light"
     },
     "output_type": "display_data"
    }
   ],
   "source": [
    "nl_lvl_1 = lake_sizes_ppv[12].transpose()\n",
    "print(nl_lvl_1.shape)\n",
    "make_histogram(nl_lvl_1, xscale='linear', ymax=10)"
   ]
  },
  {
   "cell_type": "code",
   "execution_count": 16,
   "metadata": {},
   "outputs": [
    {
     "name": "stdout",
     "output_type": "stream",
     "text": [
      "33\n"
     ]
    },
    {
     "name": "stderr",
     "output_type": "stream",
     "text": [
      "/tmp/ipykernel_40565/687785943.py:46: UserWarning: Matplotlib is currently using module://matplotlib_inline.backend_inline, which is a non-GUI backend, so cannot show the figure.\n",
      "  fig.show()\n"
     ]
    },
    {
     "data": {
      "image/png": "[encoded data removed]",
      "text/plain": [
       "<Figure size 432x144 with 2 Axes>"
      ]
     },
     "metadata": {
      "needs_background": "light"
     },
     "output_type": "display_data"
    }
   ],
   "source": [
    "per_depth = px_per_depth(1, lake_sizes_ppv)\n",
    "print(len(per_depth))\n",
    "make_histogram(per_depth, xscale='linear')"
   ]
  },
  {
   "cell_type": "code",
   "execution_count": 17,
   "metadata": {},
   "outputs": [
    {
     "name": "stderr",
     "output_type": "stream",
     "text": [
      "/tmp/ipykernel_40565/687785943.py:46: UserWarning: Matplotlib is currently using module://matplotlib_inline.backend_inline, which is a non-GUI backend, so cannot show the figure.\n",
      "  fig.show()\n"
     ]
    },
    {
     "data": {
      "image/png": "[encoded data removed]",
      "text/plain": [
       "<Figure size 432x144 with 2 Axes>"
      ]
     },
     "metadata": {
      "needs_background": "light"
     },
     "output_type": "display_data"
    }
   ],
   "source": [
    "make_histogram(px_per_waterlevel(1 ,lake_sizes_ppv), xscale='linear')"
   ]
  },
  {
   "cell_type": "code",
   "execution_count": 18,
   "metadata": {},
   "outputs": [
    {
     "name": "stderr",
     "output_type": "stream",
     "text": [
      "/tmp/ipykernel_40565/687785943.py:46: UserWarning: Matplotlib is currently using module://matplotlib_inline.backend_inline, which is a non-GUI backend, so cannot show the figure.\n",
      "  fig.show()\n"
     ]
    },
    {
     "data": {
      "image/png": "[encoded data removed]",
      "text/plain": [
       "<Figure size 432x144 with 2 Axes>"
      ]
     },
     "metadata": {
      "needs_background": "light"
     },
     "output_type": "display_data"
    }
   ],
   "source": [
    "make_histogram(px_per_waterlevel(1, lake_sizes_ppp), xscale='linear')"
   ]
  }
 ],
 "metadata": {
  "kernelspec": {
   "display_name": "Python 3",
   "language": "python",
   "name": "python3"
  },
  "language_info": {
   "codemirror_mode": {
    "name": "ipython",
    "version": 3
   },
   "file_extension": ".py",
   "mimetype": "text/x-python",
   "name": "python",
   "nbconvert_exporter": "python",
   "pygments_lexer": "ipython3",
   "version": "3.11.2"
  },
  "orig_nbformat": 4,
  "vscode": {
   "interpreter": {
    "hash": "e7370f93d1d0cde622a1f8e1c04877d8463912d04d973331ad4851f04de6915a"
   }
  }
 },
 "nbformat": 4,
 "nbformat_minor": 2
}
